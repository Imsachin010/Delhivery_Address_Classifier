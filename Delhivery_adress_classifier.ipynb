{
  "nbformat": 4,
  "nbformat_minor": 0,
  "metadata": {
    "colab": {
      "provenance": [],
      "gpuType": "T4",
      "mount_file_id": "1rbxJ_shaD1-dmCsINi7gZ7K0dua7V5dX",
      "authorship_tag": "ABX9TyMloyyoEMX4aW0d+1/km8O3",
      "include_colab_link": true
    },
    "kernelspec": {
      "name": "python3",
      "display_name": "Python 3"
    },
    "language_info": {
      "name": "python"
    },
    "accelerator": "GPU"
  },
  "cells": [
    {
      "cell_type": "markdown",
      "metadata": {
        "id": "view-in-github",
        "colab_type": "text"
      },
      "source": [
        "<a href=\"https://colab.research.google.com/github/Imsachin010/Delhivery_Address_Classifier/blob/main/Delhivery_adress_classifier.ipynb\" target=\"_parent\"><img src=\"https://colab.research.google.com/assets/colab-badge.svg\" alt=\"Open In Colab\"/></a>"
      ]
    },
    {
      "cell_type": "code",
      "source": [
        "import pandas as pd\n",
        "from sklearn.model_selection import train_test_split\n",
        "from sklearn.feature_extraction.text import CountVectorizer\n",
        "from sklearn.linear_model import LogisticRegression\n",
        "from sklearn.metrics import classification_report\n",
        "import nltk\n",
        "from nltk.corpus import stopwords\n",
        "from nltk.tokenize import word_tokenize\n",
        "\n",
        "# Download NLTK resources\n",
        "nltk.download('punkt')\n",
        "nltk.download('stopwords')"
      ],
      "metadata": {
        "colab": {
          "base_uri": "https://localhost:8080/"
        },
        "id": "nUzeed7KmO5x",
        "outputId": "df173dad-8bcc-40dc-c2d4-68cf3261e6be"
      },
      "execution_count": 19,
      "outputs": [
        {
          "output_type": "stream",
          "name": "stderr",
          "text": [
            "[nltk_data] Downloading package punkt to /root/nltk_data...\n",
            "[nltk_data]   Package punkt is already up-to-date!\n",
            "[nltk_data] Downloading package stopwords to /root/nltk_data...\n",
            "[nltk_data]   Package stopwords is already up-to-date!\n"
          ]
        },
        {
          "output_type": "execute_result",
          "data": {
            "text/plain": [
              "True"
            ]
          },
          "metadata": {},
          "execution_count": 19
        }
      ]
    },
    {
      "cell_type": "code",
      "source": [
        "# Load the CSV file\n",
        "df = pd.read_csv('/content/drive/MyDrive/Delhivery/Assignment - Address Tag/assignment_data_res_com.csv')\n",
        "df.head(5)"
      ],
      "metadata": {
        "colab": {
          "base_uri": "https://localhost:8080/",
          "height": 206
        },
        "id": "fGfb0SBwmk2e",
        "outputId": "61866f88-feed-4837-a6fa-2d8bf652b2e1"
      },
      "execution_count": 20,
      "outputs": [
        {
          "output_type": "execute_result",
          "data": {
            "text/plain": [
              "     id                                     masked_address       label\n",
              "0     2  JAI BALAJI DISTRIBUTORS, NEW MARKET SHOP NO.**...  commercial\n",
              "1   423  SUNDRAM FASTENERS LIMITED B ** SIPCOT INDUSTRI...  commercial\n",
              "2   481  Bakul-*, Shardashish Township, Torrent Power L...  commercial\n",
              "3   641  Sonkar Bhawan, Near Ashok Kirana Store, Infron...  commercial\n",
              "4  4395  jambli \\n maida factory near jambli  , jambli,...  commercial"
            ],
            "text/html": [
              "\n",
              "  <div id=\"df-ec6cfdf0-d3ad-4eaf-aa80-06b50134f8d0\" class=\"colab-df-container\">\n",
              "    <div>\n",
              "<style scoped>\n",
              "    .dataframe tbody tr th:only-of-type {\n",
              "        vertical-align: middle;\n",
              "    }\n",
              "\n",
              "    .dataframe tbody tr th {\n",
              "        vertical-align: top;\n",
              "    }\n",
              "\n",
              "    .dataframe thead th {\n",
              "        text-align: right;\n",
              "    }\n",
              "</style>\n",
              "<table border=\"1\" class=\"dataframe\">\n",
              "  <thead>\n",
              "    <tr style=\"text-align: right;\">\n",
              "      <th></th>\n",
              "      <th>id</th>\n",
              "      <th>masked_address</th>\n",
              "      <th>label</th>\n",
              "    </tr>\n",
              "  </thead>\n",
              "  <tbody>\n",
              "    <tr>\n",
              "      <th>0</th>\n",
              "      <td>2</td>\n",
              "      <td>JAI BALAJI DISTRIBUTORS, NEW MARKET SHOP NO.**...</td>\n",
              "      <td>commercial</td>\n",
              "    </tr>\n",
              "    <tr>\n",
              "      <th>1</th>\n",
              "      <td>423</td>\n",
              "      <td>SUNDRAM FASTENERS LIMITED B ** SIPCOT INDUSTRI...</td>\n",
              "      <td>commercial</td>\n",
              "    </tr>\n",
              "    <tr>\n",
              "      <th>2</th>\n",
              "      <td>481</td>\n",
              "      <td>Bakul-*, Shardashish Township, Torrent Power L...</td>\n",
              "      <td>commercial</td>\n",
              "    </tr>\n",
              "    <tr>\n",
              "      <th>3</th>\n",
              "      <td>641</td>\n",
              "      <td>Sonkar Bhawan, Near Ashok Kirana Store, Infron...</td>\n",
              "      <td>commercial</td>\n",
              "    </tr>\n",
              "    <tr>\n",
              "      <th>4</th>\n",
              "      <td>4395</td>\n",
              "      <td>jambli \\n maida factory near jambli  , jambli,...</td>\n",
              "      <td>commercial</td>\n",
              "    </tr>\n",
              "  </tbody>\n",
              "</table>\n",
              "</div>\n",
              "    <div class=\"colab-df-buttons\">\n",
              "\n",
              "  <div class=\"colab-df-container\">\n",
              "    <button class=\"colab-df-convert\" onclick=\"convertToInteractive('df-ec6cfdf0-d3ad-4eaf-aa80-06b50134f8d0')\"\n",
              "            title=\"Convert this dataframe to an interactive table.\"\n",
              "            style=\"display:none;\">\n",
              "\n",
              "  <svg xmlns=\"http://www.w3.org/2000/svg\" height=\"24px\" viewBox=\"0 -960 960 960\">\n",
              "    <path d=\"M120-120v-720h720v720H120Zm60-500h600v-160H180v160Zm220 220h160v-160H400v160Zm0 220h160v-160H400v160ZM180-400h160v-160H180v160Zm440 0h160v-160H620v160ZM180-180h160v-160H180v160Zm440 0h160v-160H620v160Z\"/>\n",
              "  </svg>\n",
              "    </button>\n",
              "\n",
              "  <style>\n",
              "    .colab-df-container {\n",
              "      display:flex;\n",
              "      gap: 12px;\n",
              "    }\n",
              "\n",
              "    .colab-df-convert {\n",
              "      background-color: #E8F0FE;\n",
              "      border: none;\n",
              "      border-radius: 50%;\n",
              "      cursor: pointer;\n",
              "      display: none;\n",
              "      fill: #1967D2;\n",
              "      height: 32px;\n",
              "      padding: 0 0 0 0;\n",
              "      width: 32px;\n",
              "    }\n",
              "\n",
              "    .colab-df-convert:hover {\n",
              "      background-color: #E2EBFA;\n",
              "      box-shadow: 0px 1px 2px rgba(60, 64, 67, 0.3), 0px 1px 3px 1px rgba(60, 64, 67, 0.15);\n",
              "      fill: #174EA6;\n",
              "    }\n",
              "\n",
              "    .colab-df-buttons div {\n",
              "      margin-bottom: 4px;\n",
              "    }\n",
              "\n",
              "    [theme=dark] .colab-df-convert {\n",
              "      background-color: #3B4455;\n",
              "      fill: #D2E3FC;\n",
              "    }\n",
              "\n",
              "    [theme=dark] .colab-df-convert:hover {\n",
              "      background-color: #434B5C;\n",
              "      box-shadow: 0px 1px 3px 1px rgba(0, 0, 0, 0.15);\n",
              "      filter: drop-shadow(0px 1px 2px rgba(0, 0, 0, 0.3));\n",
              "      fill: #FFFFFF;\n",
              "    }\n",
              "  </style>\n",
              "\n",
              "    <script>\n",
              "      const buttonEl =\n",
              "        document.querySelector('#df-ec6cfdf0-d3ad-4eaf-aa80-06b50134f8d0 button.colab-df-convert');\n",
              "      buttonEl.style.display =\n",
              "        google.colab.kernel.accessAllowed ? 'block' : 'none';\n",
              "\n",
              "      async function convertToInteractive(key) {\n",
              "        const element = document.querySelector('#df-ec6cfdf0-d3ad-4eaf-aa80-06b50134f8d0');\n",
              "        const dataTable =\n",
              "          await google.colab.kernel.invokeFunction('convertToInteractive',\n",
              "                                                    [key], {});\n",
              "        if (!dataTable) return;\n",
              "\n",
              "        const docLinkHtml = 'Like what you see? Visit the ' +\n",
              "          '<a target=\"_blank\" href=https://colab.research.google.com/notebooks/data_table.ipynb>data table notebook</a>'\n",
              "          + ' to learn more about interactive tables.';\n",
              "        element.innerHTML = '';\n",
              "        dataTable['output_type'] = 'display_data';\n",
              "        await google.colab.output.renderOutput(dataTable, element);\n",
              "        const docLink = document.createElement('div');\n",
              "        docLink.innerHTML = docLinkHtml;\n",
              "        element.appendChild(docLink);\n",
              "      }\n",
              "    </script>\n",
              "  </div>\n",
              "\n",
              "\n",
              "<div id=\"df-c0cfd225-d1c8-445d-88d7-3bdde255deff\">\n",
              "  <button class=\"colab-df-quickchart\" onclick=\"quickchart('df-c0cfd225-d1c8-445d-88d7-3bdde255deff')\"\n",
              "            title=\"Suggest charts\"\n",
              "            style=\"display:none;\">\n",
              "\n",
              "<svg xmlns=\"http://www.w3.org/2000/svg\" height=\"24px\"viewBox=\"0 0 24 24\"\n",
              "     width=\"24px\">\n",
              "    <g>\n",
              "        <path d=\"M19 3H5c-1.1 0-2 .9-2 2v14c0 1.1.9 2 2 2h14c1.1 0 2-.9 2-2V5c0-1.1-.9-2-2-2zM9 17H7v-7h2v7zm4 0h-2V7h2v10zm4 0h-2v-4h2v4z\"/>\n",
              "    </g>\n",
              "</svg>\n",
              "  </button>\n",
              "\n",
              "<style>\n",
              "  .colab-df-quickchart {\n",
              "      --bg-color: #E8F0FE;\n",
              "      --fill-color: #1967D2;\n",
              "      --hover-bg-color: #E2EBFA;\n",
              "      --hover-fill-color: #174EA6;\n",
              "      --disabled-fill-color: #AAA;\n",
              "      --disabled-bg-color: #DDD;\n",
              "  }\n",
              "\n",
              "  [theme=dark] .colab-df-quickchart {\n",
              "      --bg-color: #3B4455;\n",
              "      --fill-color: #D2E3FC;\n",
              "      --hover-bg-color: #434B5C;\n",
              "      --hover-fill-color: #FFFFFF;\n",
              "      --disabled-bg-color: #3B4455;\n",
              "      --disabled-fill-color: #666;\n",
              "  }\n",
              "\n",
              "  .colab-df-quickchart {\n",
              "    background-color: var(--bg-color);\n",
              "    border: none;\n",
              "    border-radius: 50%;\n",
              "    cursor: pointer;\n",
              "    display: none;\n",
              "    fill: var(--fill-color);\n",
              "    height: 32px;\n",
              "    padding: 0;\n",
              "    width: 32px;\n",
              "  }\n",
              "\n",
              "  .colab-df-quickchart:hover {\n",
              "    background-color: var(--hover-bg-color);\n",
              "    box-shadow: 0 1px 2px rgba(60, 64, 67, 0.3), 0 1px 3px 1px rgba(60, 64, 67, 0.15);\n",
              "    fill: var(--button-hover-fill-color);\n",
              "  }\n",
              "\n",
              "  .colab-df-quickchart-complete:disabled,\n",
              "  .colab-df-quickchart-complete:disabled:hover {\n",
              "    background-color: var(--disabled-bg-color);\n",
              "    fill: var(--disabled-fill-color);\n",
              "    box-shadow: none;\n",
              "  }\n",
              "\n",
              "  .colab-df-spinner {\n",
              "    border: 2px solid var(--fill-color);\n",
              "    border-color: transparent;\n",
              "    border-bottom-color: var(--fill-color);\n",
              "    animation:\n",
              "      spin 1s steps(1) infinite;\n",
              "  }\n",
              "\n",
              "  @keyframes spin {\n",
              "    0% {\n",
              "      border-color: transparent;\n",
              "      border-bottom-color: var(--fill-color);\n",
              "      border-left-color: var(--fill-color);\n",
              "    }\n",
              "    20% {\n",
              "      border-color: transparent;\n",
              "      border-left-color: var(--fill-color);\n",
              "      border-top-color: var(--fill-color);\n",
              "    }\n",
              "    30% {\n",
              "      border-color: transparent;\n",
              "      border-left-color: var(--fill-color);\n",
              "      border-top-color: var(--fill-color);\n",
              "      border-right-color: var(--fill-color);\n",
              "    }\n",
              "    40% {\n",
              "      border-color: transparent;\n",
              "      border-right-color: var(--fill-color);\n",
              "      border-top-color: var(--fill-color);\n",
              "    }\n",
              "    60% {\n",
              "      border-color: transparent;\n",
              "      border-right-color: var(--fill-color);\n",
              "    }\n",
              "    80% {\n",
              "      border-color: transparent;\n",
              "      border-right-color: var(--fill-color);\n",
              "      border-bottom-color: var(--fill-color);\n",
              "    }\n",
              "    90% {\n",
              "      border-color: transparent;\n",
              "      border-bottom-color: var(--fill-color);\n",
              "    }\n",
              "  }\n",
              "</style>\n",
              "\n",
              "  <script>\n",
              "    async function quickchart(key) {\n",
              "      const quickchartButtonEl =\n",
              "        document.querySelector('#' + key + ' button');\n",
              "      quickchartButtonEl.disabled = true;  // To prevent multiple clicks.\n",
              "      quickchartButtonEl.classList.add('colab-df-spinner');\n",
              "      try {\n",
              "        const charts = await google.colab.kernel.invokeFunction(\n",
              "            'suggestCharts', [key], {});\n",
              "      } catch (error) {\n",
              "        console.error('Error during call to suggestCharts:', error);\n",
              "      }\n",
              "      quickchartButtonEl.classList.remove('colab-df-spinner');\n",
              "      quickchartButtonEl.classList.add('colab-df-quickchart-complete');\n",
              "    }\n",
              "    (() => {\n",
              "      let quickchartButtonEl =\n",
              "        document.querySelector('#df-c0cfd225-d1c8-445d-88d7-3bdde255deff button');\n",
              "      quickchartButtonEl.style.display =\n",
              "        google.colab.kernel.accessAllowed ? 'block' : 'none';\n",
              "    })();\n",
              "  </script>\n",
              "</div>\n",
              "\n",
              "    </div>\n",
              "  </div>\n"
            ]
          },
          "metadata": {},
          "execution_count": 20
        }
      ]
    },
    {
      "cell_type": "code",
      "source": [
        "# Assuming 'label' column contains 'commercial' or 'residential'\n",
        "# Replace 'label' with your actual label column\n",
        "X = df['masked_address']\n",
        "y = df['label']\n"
      ],
      "metadata": {
        "id": "FUO3aM0Rm61_"
      },
      "execution_count": 21,
      "outputs": []
    },
    {
      "cell_type": "code",
      "execution_count": 22,
      "metadata": {
        "id": "UYxPDMEbZMC4"
      },
      "outputs": [],
      "source": [
        "# Train-test split\n",
        "X_train, X_test, y_train, y_test = train_test_split(X, y, test_size=0.2, random_state=42)\n",
        "\n",
        "# Feature extraction using CountVectorizer\n",
        "vectorizer = CountVectorizer(stop_words=stopwords.words('english'))\n",
        "X_train_vectorized = vectorizer.fit_transform(X_train)\n",
        "X_test_vectorized = vectorizer.transform(X_test)"
      ]
    },
    {
      "cell_type": "code",
      "source": [
        "# Remove NaN values\n",
        "df = df.dropna()\n",
        "df.head(5)"
      ],
      "metadata": {
        "colab": {
          "base_uri": "https://localhost:8080/",
          "height": 206
        },
        "id": "Mckbw68SoYH1",
        "outputId": "b63a9b50-71ed-485c-c78a-5397fb83a878"
      },
      "execution_count": 23,
      "outputs": [
        {
          "output_type": "execute_result",
          "data": {
            "text/plain": [
              "     id                                     masked_address       label\n",
              "0     2  JAI BALAJI DISTRIBUTORS, NEW MARKET SHOP NO.**...  commercial\n",
              "1   423  SUNDRAM FASTENERS LIMITED B ** SIPCOT INDUSTRI...  commercial\n",
              "2   481  Bakul-*, Shardashish Township, Torrent Power L...  commercial\n",
              "3   641  Sonkar Bhawan, Near Ashok Kirana Store, Infron...  commercial\n",
              "4  4395  jambli \\n maida factory near jambli  , jambli,...  commercial"
            ],
            "text/html": [
              "\n",
              "  <div id=\"df-854993f7-483c-4d71-8e5f-a888e1dd79d2\" class=\"colab-df-container\">\n",
              "    <div>\n",
              "<style scoped>\n",
              "    .dataframe tbody tr th:only-of-type {\n",
              "        vertical-align: middle;\n",
              "    }\n",
              "\n",
              "    .dataframe tbody tr th {\n",
              "        vertical-align: top;\n",
              "    }\n",
              "\n",
              "    .dataframe thead th {\n",
              "        text-align: right;\n",
              "    }\n",
              "</style>\n",
              "<table border=\"1\" class=\"dataframe\">\n",
              "  <thead>\n",
              "    <tr style=\"text-align: right;\">\n",
              "      <th></th>\n",
              "      <th>id</th>\n",
              "      <th>masked_address</th>\n",
              "      <th>label</th>\n",
              "    </tr>\n",
              "  </thead>\n",
              "  <tbody>\n",
              "    <tr>\n",
              "      <th>0</th>\n",
              "      <td>2</td>\n",
              "      <td>JAI BALAJI DISTRIBUTORS, NEW MARKET SHOP NO.**...</td>\n",
              "      <td>commercial</td>\n",
              "    </tr>\n",
              "    <tr>\n",
              "      <th>1</th>\n",
              "      <td>423</td>\n",
              "      <td>SUNDRAM FASTENERS LIMITED B ** SIPCOT INDUSTRI...</td>\n",
              "      <td>commercial</td>\n",
              "    </tr>\n",
              "    <tr>\n",
              "      <th>2</th>\n",
              "      <td>481</td>\n",
              "      <td>Bakul-*, Shardashish Township, Torrent Power L...</td>\n",
              "      <td>commercial</td>\n",
              "    </tr>\n",
              "    <tr>\n",
              "      <th>3</th>\n",
              "      <td>641</td>\n",
              "      <td>Sonkar Bhawan, Near Ashok Kirana Store, Infron...</td>\n",
              "      <td>commercial</td>\n",
              "    </tr>\n",
              "    <tr>\n",
              "      <th>4</th>\n",
              "      <td>4395</td>\n",
              "      <td>jambli \\n maida factory near jambli  , jambli,...</td>\n",
              "      <td>commercial</td>\n",
              "    </tr>\n",
              "  </tbody>\n",
              "</table>\n",
              "</div>\n",
              "    <div class=\"colab-df-buttons\">\n",
              "\n",
              "  <div class=\"colab-df-container\">\n",
              "    <button class=\"colab-df-convert\" onclick=\"convertToInteractive('df-854993f7-483c-4d71-8e5f-a888e1dd79d2')\"\n",
              "            title=\"Convert this dataframe to an interactive table.\"\n",
              "            style=\"display:none;\">\n",
              "\n",
              "  <svg xmlns=\"http://www.w3.org/2000/svg\" height=\"24px\" viewBox=\"0 -960 960 960\">\n",
              "    <path d=\"M120-120v-720h720v720H120Zm60-500h600v-160H180v160Zm220 220h160v-160H400v160Zm0 220h160v-160H400v160ZM180-400h160v-160H180v160Zm440 0h160v-160H620v160ZM180-180h160v-160H180v160Zm440 0h160v-160H620v160Z\"/>\n",
              "  </svg>\n",
              "    </button>\n",
              "\n",
              "  <style>\n",
              "    .colab-df-container {\n",
              "      display:flex;\n",
              "      gap: 12px;\n",
              "    }\n",
              "\n",
              "    .colab-df-convert {\n",
              "      background-color: #E8F0FE;\n",
              "      border: none;\n",
              "      border-radius: 50%;\n",
              "      cursor: pointer;\n",
              "      display: none;\n",
              "      fill: #1967D2;\n",
              "      height: 32px;\n",
              "      padding: 0 0 0 0;\n",
              "      width: 32px;\n",
              "    }\n",
              "\n",
              "    .colab-df-convert:hover {\n",
              "      background-color: #E2EBFA;\n",
              "      box-shadow: 0px 1px 2px rgba(60, 64, 67, 0.3), 0px 1px 3px 1px rgba(60, 64, 67, 0.15);\n",
              "      fill: #174EA6;\n",
              "    }\n",
              "\n",
              "    .colab-df-buttons div {\n",
              "      margin-bottom: 4px;\n",
              "    }\n",
              "\n",
              "    [theme=dark] .colab-df-convert {\n",
              "      background-color: #3B4455;\n",
              "      fill: #D2E3FC;\n",
              "    }\n",
              "\n",
              "    [theme=dark] .colab-df-convert:hover {\n",
              "      background-color: #434B5C;\n",
              "      box-shadow: 0px 1px 3px 1px rgba(0, 0, 0, 0.15);\n",
              "      filter: drop-shadow(0px 1px 2px rgba(0, 0, 0, 0.3));\n",
              "      fill: #FFFFFF;\n",
              "    }\n",
              "  </style>\n",
              "\n",
              "    <script>\n",
              "      const buttonEl =\n",
              "        document.querySelector('#df-854993f7-483c-4d71-8e5f-a888e1dd79d2 button.colab-df-convert');\n",
              "      buttonEl.style.display =\n",
              "        google.colab.kernel.accessAllowed ? 'block' : 'none';\n",
              "\n",
              "      async function convertToInteractive(key) {\n",
              "        const element = document.querySelector('#df-854993f7-483c-4d71-8e5f-a888e1dd79d2');\n",
              "        const dataTable =\n",
              "          await google.colab.kernel.invokeFunction('convertToInteractive',\n",
              "                                                    [key], {});\n",
              "        if (!dataTable) return;\n",
              "\n",
              "        const docLinkHtml = 'Like what you see? Visit the ' +\n",
              "          '<a target=\"_blank\" href=https://colab.research.google.com/notebooks/data_table.ipynb>data table notebook</a>'\n",
              "          + ' to learn more about interactive tables.';\n",
              "        element.innerHTML = '';\n",
              "        dataTable['output_type'] = 'display_data';\n",
              "        await google.colab.output.renderOutput(dataTable, element);\n",
              "        const docLink = document.createElement('div');\n",
              "        docLink.innerHTML = docLinkHtml;\n",
              "        element.appendChild(docLink);\n",
              "      }\n",
              "    </script>\n",
              "  </div>\n",
              "\n",
              "\n",
              "<div id=\"df-bed3f008-725a-401b-a17e-749435315188\">\n",
              "  <button class=\"colab-df-quickchart\" onclick=\"quickchart('df-bed3f008-725a-401b-a17e-749435315188')\"\n",
              "            title=\"Suggest charts\"\n",
              "            style=\"display:none;\">\n",
              "\n",
              "<svg xmlns=\"http://www.w3.org/2000/svg\" height=\"24px\"viewBox=\"0 0 24 24\"\n",
              "     width=\"24px\">\n",
              "    <g>\n",
              "        <path d=\"M19 3H5c-1.1 0-2 .9-2 2v14c0 1.1.9 2 2 2h14c1.1 0 2-.9 2-2V5c0-1.1-.9-2-2-2zM9 17H7v-7h2v7zm4 0h-2V7h2v10zm4 0h-2v-4h2v4z\"/>\n",
              "    </g>\n",
              "</svg>\n",
              "  </button>\n",
              "\n",
              "<style>\n",
              "  .colab-df-quickchart {\n",
              "      --bg-color: #E8F0FE;\n",
              "      --fill-color: #1967D2;\n",
              "      --hover-bg-color: #E2EBFA;\n",
              "      --hover-fill-color: #174EA6;\n",
              "      --disabled-fill-color: #AAA;\n",
              "      --disabled-bg-color: #DDD;\n",
              "  }\n",
              "\n",
              "  [theme=dark] .colab-df-quickchart {\n",
              "      --bg-color: #3B4455;\n",
              "      --fill-color: #D2E3FC;\n",
              "      --hover-bg-color: #434B5C;\n",
              "      --hover-fill-color: #FFFFFF;\n",
              "      --disabled-bg-color: #3B4455;\n",
              "      --disabled-fill-color: #666;\n",
              "  }\n",
              "\n",
              "  .colab-df-quickchart {\n",
              "    background-color: var(--bg-color);\n",
              "    border: none;\n",
              "    border-radius: 50%;\n",
              "    cursor: pointer;\n",
              "    display: none;\n",
              "    fill: var(--fill-color);\n",
              "    height: 32px;\n",
              "    padding: 0;\n",
              "    width: 32px;\n",
              "  }\n",
              "\n",
              "  .colab-df-quickchart:hover {\n",
              "    background-color: var(--hover-bg-color);\n",
              "    box-shadow: 0 1px 2px rgba(60, 64, 67, 0.3), 0 1px 3px 1px rgba(60, 64, 67, 0.15);\n",
              "    fill: var(--button-hover-fill-color);\n",
              "  }\n",
              "\n",
              "  .colab-df-quickchart-complete:disabled,\n",
              "  .colab-df-quickchart-complete:disabled:hover {\n",
              "    background-color: var(--disabled-bg-color);\n",
              "    fill: var(--disabled-fill-color);\n",
              "    box-shadow: none;\n",
              "  }\n",
              "\n",
              "  .colab-df-spinner {\n",
              "    border: 2px solid var(--fill-color);\n",
              "    border-color: transparent;\n",
              "    border-bottom-color: var(--fill-color);\n",
              "    animation:\n",
              "      spin 1s steps(1) infinite;\n",
              "  }\n",
              "\n",
              "  @keyframes spin {\n",
              "    0% {\n",
              "      border-color: transparent;\n",
              "      border-bottom-color: var(--fill-color);\n",
              "      border-left-color: var(--fill-color);\n",
              "    }\n",
              "    20% {\n",
              "      border-color: transparent;\n",
              "      border-left-color: var(--fill-color);\n",
              "      border-top-color: var(--fill-color);\n",
              "    }\n",
              "    30% {\n",
              "      border-color: transparent;\n",
              "      border-left-color: var(--fill-color);\n",
              "      border-top-color: var(--fill-color);\n",
              "      border-right-color: var(--fill-color);\n",
              "    }\n",
              "    40% {\n",
              "      border-color: transparent;\n",
              "      border-right-color: var(--fill-color);\n",
              "      border-top-color: var(--fill-color);\n",
              "    }\n",
              "    60% {\n",
              "      border-color: transparent;\n",
              "      border-right-color: var(--fill-color);\n",
              "    }\n",
              "    80% {\n",
              "      border-color: transparent;\n",
              "      border-right-color: var(--fill-color);\n",
              "      border-bottom-color: var(--fill-color);\n",
              "    }\n",
              "    90% {\n",
              "      border-color: transparent;\n",
              "      border-bottom-color: var(--fill-color);\n",
              "    }\n",
              "  }\n",
              "</style>\n",
              "\n",
              "  <script>\n",
              "    async function quickchart(key) {\n",
              "      const quickchartButtonEl =\n",
              "        document.querySelector('#' + key + ' button');\n",
              "      quickchartButtonEl.disabled = true;  // To prevent multiple clicks.\n",
              "      quickchartButtonEl.classList.add('colab-df-spinner');\n",
              "      try {\n",
              "        const charts = await google.colab.kernel.invokeFunction(\n",
              "            'suggestCharts', [key], {});\n",
              "      } catch (error) {\n",
              "        console.error('Error during call to suggestCharts:', error);\n",
              "      }\n",
              "      quickchartButtonEl.classList.remove('colab-df-spinner');\n",
              "      quickchartButtonEl.classList.add('colab-df-quickchart-complete');\n",
              "    }\n",
              "    (() => {\n",
              "      let quickchartButtonEl =\n",
              "        document.querySelector('#df-bed3f008-725a-401b-a17e-749435315188 button');\n",
              "      quickchartButtonEl.style.display =\n",
              "        google.colab.kernel.accessAllowed ? 'block' : 'none';\n",
              "    })();\n",
              "  </script>\n",
              "</div>\n",
              "\n",
              "    </div>\n",
              "  </div>\n"
            ]
          },
          "metadata": {},
          "execution_count": 23
        }
      ]
    },
    {
      "cell_type": "code",
      "source": [
        "# Remove NaN values\n",
        "df = df.dropna()\n",
        "\n",
        "# Train-test split\n",
        "X_train, X_test, y_train, y_test = train_test_split(df['masked_address'], df['label'], test_size=0.2, random_state=550)\n",
        "\n",
        "# Feature extraction using CountVectorizer\n",
        "vectorizer = CountVectorizer(stop_words=stopwords.words('english'))\n",
        "X_train_vectorized = vectorizer.fit_transform(X_train)\n",
        "X_test_vectorized = vectorizer.transform(X_test)\n",
        "\n",
        "# Train a logistic regression model\n",
        "classifier = LogisticRegression()\n",
        "classifier.fit(X_train_vectorized, y_train)\n",
        "\n",
        "# Predictions on the test set\n",
        "y_pred = classifier.predict(X_test_vectorized)\n",
        "\n",
        "# Evaluate the model\n",
        "print(\"Classification Report:\\n\", classification_report(y_test, y_pred))\n"
      ],
      "metadata": {
        "id": "LPFuNZO-bYJq",
        "colab": {
          "base_uri": "https://localhost:8080/"
        },
        "outputId": "071e8fa3-a6b9-4908-c6b5-9e1dcc16576f"
      },
      "execution_count": 24,
      "outputs": [
        {
          "output_type": "stream",
          "name": "stdout",
          "text": [
            "Classification Report:\n",
            "               precision    recall  f1-score   support\n",
            "\n",
            "  commercial       0.00      0.00      0.00         3\n",
            " residential       0.40      1.00      0.57         2\n",
            "\n",
            "    accuracy                           0.40         5\n",
            "   macro avg       0.20      0.50      0.29         5\n",
            "weighted avg       0.16      0.40      0.23         5\n",
            "\n"
          ]
        },
        {
          "output_type": "stream",
          "name": "stderr",
          "text": [
            "/usr/local/lib/python3.10/dist-packages/sklearn/metrics/_classification.py:1344: UndefinedMetricWarning: Precision and F-score are ill-defined and being set to 0.0 in labels with no predicted samples. Use `zero_division` parameter to control this behavior.\n",
            "  _warn_prf(average, modifier, msg_start, len(result))\n",
            "/usr/local/lib/python3.10/dist-packages/sklearn/metrics/_classification.py:1344: UndefinedMetricWarning: Precision and F-score are ill-defined and being set to 0.0 in labels with no predicted samples. Use `zero_division` parameter to control this behavior.\n",
            "  _warn_prf(average, modifier, msg_start, len(result))\n",
            "/usr/local/lib/python3.10/dist-packages/sklearn/metrics/_classification.py:1344: UndefinedMetricWarning: Precision and F-score are ill-defined and being set to 0.0 in labels with no predicted samples. Use `zero_division` parameter to control this behavior.\n",
            "  _warn_prf(average, modifier, msg_start, len(result))\n"
          ]
        }
      ]
    },
    {
      "cell_type": "code",
      "source": [
        "# For example, assuming you have a new address 'new_address':\n",
        "new_address = [\"OFFICE NO-***, *TH FLOOR, BLOCK-EP /GP, SEC-V, SALT LAKE CITY, KOLKATA,****  , kolkata, west bengal, 700091\"]\n",
        "new_address_vectorized = vectorizer.transform(new_address)\n",
        "prediction = classifier.predict(new_address_vectorized)\n",
        "print(f\"Prediction for the new address: {prediction}\")"
      ],
      "metadata": {
        "colab": {
          "base_uri": "https://localhost:8080/"
        },
        "id": "1m610rlynHvj",
        "outputId": "f49b6c38-c233-43cb-f4e8-5a426360d7e3"
      },
      "execution_count": 25,
      "outputs": [
        {
          "output_type": "stream",
          "name": "stdout",
          "text": [
            "Prediction for the new address: ['commercial']\n"
          ]
        }
      ]
    },
    {
      "cell_type": "code",
      "source": [
        "# For example, assuming you have a new address 'new_address':\n",
        "new_address = [\"Village kandi p.o.khaniyara.teh Dharamshala  Khanyara road  , Kangra District, Himachal Pradesh, 176218\"]\n",
        "new_address_vectorized = vectorizer.transform(new_address)\n",
        "prediction = classifier.predict(new_address_vectorized)\n",
        "print(f\"Prediction for the new address: {prediction}\")"
      ],
      "metadata": {
        "colab": {
          "base_uri": "https://localhost:8080/"
        },
        "id": "tzFr7yYnbuRL",
        "outputId": "cba52e1b-697b-4b06-c4e0-a3d62bbc36b1"
      },
      "execution_count": 26,
      "outputs": [
        {
          "output_type": "stream",
          "name": "stdout",
          "text": [
            "Prediction for the new address: ['residential']\n"
          ]
        }
      ]
    },
    {
      "cell_type": "markdown",
      "source": [
        "# **Hypertuning**"
      ],
      "metadata": {
        "id": "x0h5T59dd2Az"
      }
    },
    {
      "cell_type": "code",
      "source": [
        "from sklearn.model_selection import GridSearchCV\n",
        "from sklearn.pipeline import make_pipeline\n",
        "from sklearn.feature_extraction.text import CountVectorizer\n",
        "from sklearn.linear_model import LogisticRegression\n"
      ],
      "metadata": {
        "id": "koeXtlYpdTgj"
      },
      "execution_count": 27,
      "outputs": []
    },
    {
      "cell_type": "code",
      "source": [
        "# We have preprocessed data and labels\n",
        "X = df['masked_address']\n",
        "y = df['label']"
      ],
      "metadata": {
        "id": "rprv2fvJdWNJ"
      },
      "execution_count": 28,
      "outputs": []
    },
    {
      "cell_type": "code",
      "source": [
        "# Create a pipeline with CountVectorizer and LogisticRegression\n",
        "pipeline = make_pipeline(\n",
        "    CountVectorizer(stop_words=stopwords.words('english')),\n",
        "    LogisticRegression()\n",
        ")\n",
        "\n",
        "# Define hyperparameter grid for tuning\n",
        "param_grid = {\n",
        "    'countvectorizer__ngram_range': [(1, 1), (1, 2)],  # Adjust the ngram_range\n",
        "    'logisticregression__C': [0.1, 1, 10],  # Adjust the regularization parameter\n",
        "}"
      ],
      "metadata": {
        "id": "j0Z9MR2SddZT"
      },
      "execution_count": 29,
      "outputs": []
    },
    {
      "cell_type": "code",
      "source": [
        "# Use GridSearchCV to find the best hyperparameters\n",
        "grid_search = GridSearchCV(pipeline, param_grid, cv=5, scoring='accuracy')\n",
        "grid_search.fit(X, y)\n",
        "\n",
        "# Print the best hyperparameters\n",
        "print(\"Best Hyperparameters:\", grid_search.best_params_)\n"
      ],
      "metadata": {
        "colab": {
          "base_uri": "https://localhost:8080/"
        },
        "id": "UYTPzHGmdkTk",
        "outputId": "82a1f55e-28d5-4f60-9f4b-c76d37dedbb9"
      },
      "execution_count": 30,
      "outputs": [
        {
          "output_type": "stream",
          "name": "stdout",
          "text": [
            "Best Hyperparameters: {'countvectorizer__ngram_range': (1, 2), 'logisticregression__C': 0.1}\n"
          ]
        }
      ]
    },
    {
      "cell_type": "code",
      "source": [
        "# Use the best model for prediction\n",
        "best_model = grid_search.best_estimator_\n",
        "\n",
        "# Train-test split\n",
        "X_train, X_test, y_train, y_test = train_test_split(X, y, test_size=0.2, random_state=42)\n",
        "\n",
        "# Fit the best model on the training data\n",
        "best_model.fit(X_train, y_train)\n",
        "\n",
        "# Predictions on the test set\n",
        "y_pred = best_model.predict(X_test)"
      ],
      "metadata": {
        "id": "1CWaDfDmdKsn"
      },
      "execution_count": 31,
      "outputs": []
    },
    {
      "cell_type": "code",
      "source": [
        "# Additional evaluation metrics\n",
        "from sklearn.metrics import accuracy_score, precision_score, recall_score, f1_score, confusion_matrix\n",
        "\n",
        "# Evaluate the model\n",
        "accuracy = accuracy_score(y_test, y_pred)\n",
        "precision = precision_score(y_test, y_pred, pos_label='commercial', average='binary')\n",
        "recall = recall_score(y_test, y_pred, pos_label='commercial', average='binary')\n",
        "f1 = f1_score(y_test, y_pred, pos_label='commercial', average='binary')"
      ],
      "metadata": {
        "colab": {
          "base_uri": "https://localhost:8080/"
        },
        "id": "On34iu26dstD",
        "outputId": "ddd584e3-5a9a-4e5a-f7a8-9aa5ca4b0f50"
      },
      "execution_count": 32,
      "outputs": [
        {
          "output_type": "stream",
          "name": "stderr",
          "text": [
            "/usr/local/lib/python3.10/dist-packages/sklearn/metrics/_classification.py:1344: UndefinedMetricWarning: Precision is ill-defined and being set to 0.0 due to no predicted samples. Use `zero_division` parameter to control this behavior.\n",
            "  _warn_prf(average, modifier, msg_start, len(result))\n"
          ]
        }
      ]
    },
    {
      "cell_type": "code",
      "source": [
        "# Confusion Matrix\n",
        "conf_matrix = confusion_matrix(y_test, y_pred)\n",
        "\n",
        "print(\"Accuracy:\", accuracy)\n",
        "print(\"Precision:\", precision)\n",
        "print(\"Recall:\", recall)\n",
        "print(\"F1 Score:\", f1)\n",
        "print(\"Confusion Matrix:\\n\", conf_matrix)"
      ],
      "metadata": {
        "colab": {
          "base_uri": "https://localhost:8080/"
        },
        "id": "5_UYjcqjdpQb",
        "outputId": "ebc64d51-2fc6-46e5-9e45-1dfc4041258f"
      },
      "execution_count": 33,
      "outputs": [
        {
          "output_type": "stream",
          "name": "stdout",
          "text": [
            "Accuracy: 0.4\n",
            "Precision: 0.0\n",
            "Recall: 0.0\n",
            "F1 Score: 0.0\n",
            "Confusion Matrix:\n",
            " [[0 3]\n",
            " [0 2]]\n"
          ]
        }
      ]
    },
    {
      "cell_type": "markdown",
      "source": [
        "# **Validation**"
      ],
      "metadata": {
        "id": "-XrVsuC8gvW9"
      }
    },
    {
      "cell_type": "code",
      "source": [
        "  # For example, assuming you have a new address 'new_address':\n",
        "new_address = [\"Village kandi p.o.khaniyara.teh Dharamshala  Khanyara road  , Kangra District, Himachal Pradesh, 176218\"]\n",
        "new_address_vectorized = vectorizer.transform(new_address)\n",
        "prediction = classifier.predict(new_address_vectorized)\n",
        "print(f\"Prediction for the new address: {prediction}\")"
      ],
      "metadata": {
        "colab": {
          "base_uri": "https://localhost:8080/"
        },
        "id": "T8Oi4i2wc0Sb",
        "outputId": "3fe39df4-e79f-4245-d824-7516db5c3199"
      },
      "execution_count": 34,
      "outputs": [
        {
          "output_type": "stream",
          "name": "stdout",
          "text": [
            "Prediction for the new address: ['residential']\n"
          ]
        }
      ]
    },
    {
      "cell_type": "markdown",
      "source": [
        "# **Using NLP**"
      ],
      "metadata": {
        "id": "7DSNG3BEhM5Q"
      }
    },
    {
      "cell_type": "code",
      "source": [
        "!pip install tensorflow\n",
        "!pip install scikit-learn"
      ],
      "metadata": {
        "colab": {
          "base_uri": "https://localhost:8080/"
        },
        "id": "OVpF1I0Vd_Kx",
        "outputId": "2456152c-ae8c-4e13-ae1c-ab33403cd5fa"
      },
      "execution_count": 35,
      "outputs": [
        {
          "output_type": "stream",
          "name": "stdout",
          "text": [
            "Requirement already satisfied: tensorflow in /usr/local/lib/python3.10/dist-packages (2.14.0)\n",
            "Requirement already satisfied: absl-py>=1.0.0 in /usr/local/lib/python3.10/dist-packages (from tensorflow) (1.4.0)\n",
            "Requirement already satisfied: astunparse>=1.6.0 in /usr/local/lib/python3.10/dist-packages (from tensorflow) (1.6.3)\n",
            "Requirement already satisfied: flatbuffers>=23.5.26 in /usr/local/lib/python3.10/dist-packages (from tensorflow) (23.5.26)\n",
            "Requirement already satisfied: gast!=0.5.0,!=0.5.1,!=0.5.2,>=0.2.1 in /usr/local/lib/python3.10/dist-packages (from tensorflow) (0.5.4)\n",
            "Requirement already satisfied: google-pasta>=0.1.1 in /usr/local/lib/python3.10/dist-packages (from tensorflow) (0.2.0)\n",
            "Requirement already satisfied: h5py>=2.9.0 in /usr/local/lib/python3.10/dist-packages (from tensorflow) (3.9.0)\n",
            "Requirement already satisfied: libclang>=13.0.0 in /usr/local/lib/python3.10/dist-packages (from tensorflow) (16.0.6)\n",
            "Requirement already satisfied: ml-dtypes==0.2.0 in /usr/local/lib/python3.10/dist-packages (from tensorflow) (0.2.0)\n",
            "Requirement already satisfied: numpy>=1.23.5 in /usr/local/lib/python3.10/dist-packages (from tensorflow) (1.23.5)\n",
            "Requirement already satisfied: opt-einsum>=2.3.2 in /usr/local/lib/python3.10/dist-packages (from tensorflow) (3.3.0)\n",
            "Requirement already satisfied: packaging in /usr/local/lib/python3.10/dist-packages (from tensorflow) (23.2)\n",
            "Requirement already satisfied: protobuf!=4.21.0,!=4.21.1,!=4.21.2,!=4.21.3,!=4.21.4,!=4.21.5,<5.0.0dev,>=3.20.3 in /usr/local/lib/python3.10/dist-packages (from tensorflow) (3.20.3)\n",
            "Requirement already satisfied: setuptools in /usr/local/lib/python3.10/dist-packages (from tensorflow) (67.7.2)\n",
            "Requirement already satisfied: six>=1.12.0 in /usr/local/lib/python3.10/dist-packages (from tensorflow) (1.16.0)\n",
            "Requirement already satisfied: termcolor>=1.1.0 in /usr/local/lib/python3.10/dist-packages (from tensorflow) (2.4.0)\n",
            "Requirement already satisfied: typing-extensions>=3.6.6 in /usr/local/lib/python3.10/dist-packages (from tensorflow) (4.5.0)\n",
            "Requirement already satisfied: wrapt<1.15,>=1.11.0 in /usr/local/lib/python3.10/dist-packages (from tensorflow) (1.14.1)\n",
            "Requirement already satisfied: tensorflow-io-gcs-filesystem>=0.23.1 in /usr/local/lib/python3.10/dist-packages (from tensorflow) (0.34.0)\n",
            "Requirement already satisfied: grpcio<2.0,>=1.24.3 in /usr/local/lib/python3.10/dist-packages (from tensorflow) (1.59.3)\n",
            "Requirement already satisfied: tensorboard<2.15,>=2.14 in /usr/local/lib/python3.10/dist-packages (from tensorflow) (2.14.1)\n",
            "Requirement already satisfied: tensorflow-estimator<2.15,>=2.14.0 in /usr/local/lib/python3.10/dist-packages (from tensorflow) (2.14.0)\n",
            "Requirement already satisfied: keras<2.15,>=2.14.0 in /usr/local/lib/python3.10/dist-packages (from tensorflow) (2.14.0)\n",
            "Requirement already satisfied: wheel<1.0,>=0.23.0 in /usr/local/lib/python3.10/dist-packages (from astunparse>=1.6.0->tensorflow) (0.42.0)\n",
            "Requirement already satisfied: google-auth<3,>=1.6.3 in /usr/local/lib/python3.10/dist-packages (from tensorboard<2.15,>=2.14->tensorflow) (2.17.3)\n",
            "Requirement already satisfied: google-auth-oauthlib<1.1,>=0.5 in /usr/local/lib/python3.10/dist-packages (from tensorboard<2.15,>=2.14->tensorflow) (1.0.0)\n",
            "Requirement already satisfied: markdown>=2.6.8 in /usr/local/lib/python3.10/dist-packages (from tensorboard<2.15,>=2.14->tensorflow) (3.5.1)\n",
            "Requirement already satisfied: requests<3,>=2.21.0 in /usr/local/lib/python3.10/dist-packages (from tensorboard<2.15,>=2.14->tensorflow) (2.31.0)\n",
            "Requirement already satisfied: tensorboard-data-server<0.8.0,>=0.7.0 in /usr/local/lib/python3.10/dist-packages (from tensorboard<2.15,>=2.14->tensorflow) (0.7.2)\n",
            "Requirement already satisfied: werkzeug>=1.0.1 in /usr/local/lib/python3.10/dist-packages (from tensorboard<2.15,>=2.14->tensorflow) (3.0.1)\n",
            "Requirement already satisfied: cachetools<6.0,>=2.0.0 in /usr/local/lib/python3.10/dist-packages (from google-auth<3,>=1.6.3->tensorboard<2.15,>=2.14->tensorflow) (5.3.2)\n",
            "Requirement already satisfied: pyasn1-modules>=0.2.1 in /usr/local/lib/python3.10/dist-packages (from google-auth<3,>=1.6.3->tensorboard<2.15,>=2.14->tensorflow) (0.3.0)\n",
            "Requirement already satisfied: rsa<5,>=3.1.4 in /usr/local/lib/python3.10/dist-packages (from google-auth<3,>=1.6.3->tensorboard<2.15,>=2.14->tensorflow) (4.9)\n",
            "Requirement already satisfied: requests-oauthlib>=0.7.0 in /usr/local/lib/python3.10/dist-packages (from google-auth-oauthlib<1.1,>=0.5->tensorboard<2.15,>=2.14->tensorflow) (1.3.1)\n",
            "Requirement already satisfied: charset-normalizer<4,>=2 in /usr/local/lib/python3.10/dist-packages (from requests<3,>=2.21.0->tensorboard<2.15,>=2.14->tensorflow) (3.3.2)\n",
            "Requirement already satisfied: idna<4,>=2.5 in /usr/local/lib/python3.10/dist-packages (from requests<3,>=2.21.0->tensorboard<2.15,>=2.14->tensorflow) (3.6)\n",
            "Requirement already satisfied: urllib3<3,>=1.21.1 in /usr/local/lib/python3.10/dist-packages (from requests<3,>=2.21.0->tensorboard<2.15,>=2.14->tensorflow) (2.0.7)\n",
            "Requirement already satisfied: certifi>=2017.4.17 in /usr/local/lib/python3.10/dist-packages (from requests<3,>=2.21.0->tensorboard<2.15,>=2.14->tensorflow) (2023.11.17)\n",
            "Requirement already satisfied: MarkupSafe>=2.1.1 in /usr/local/lib/python3.10/dist-packages (from werkzeug>=1.0.1->tensorboard<2.15,>=2.14->tensorflow) (2.1.3)\n",
            "Requirement already satisfied: pyasn1<0.6.0,>=0.4.6 in /usr/local/lib/python3.10/dist-packages (from pyasn1-modules>=0.2.1->google-auth<3,>=1.6.3->tensorboard<2.15,>=2.14->tensorflow) (0.5.1)\n",
            "Requirement already satisfied: oauthlib>=3.0.0 in /usr/local/lib/python3.10/dist-packages (from requests-oauthlib>=0.7.0->google-auth-oauthlib<1.1,>=0.5->tensorboard<2.15,>=2.14->tensorflow) (3.2.2)\n",
            "Requirement already satisfied: scikit-learn in /usr/local/lib/python3.10/dist-packages (1.2.2)\n",
            "Requirement already satisfied: numpy>=1.17.3 in /usr/local/lib/python3.10/dist-packages (from scikit-learn) (1.23.5)\n",
            "Requirement already satisfied: scipy>=1.3.2 in /usr/local/lib/python3.10/dist-packages (from scikit-learn) (1.11.4)\n",
            "Requirement already satisfied: joblib>=1.1.1 in /usr/local/lib/python3.10/dist-packages (from scikit-learn) (1.3.2)\n",
            "Requirement already satisfied: threadpoolctl>=2.0.0 in /usr/local/lib/python3.10/dist-packages (from scikit-learn) (3.2.0)\n"
          ]
        }
      ]
    },
    {
      "cell_type": "code",
      "source": [
        "import numpy as np\n",
        "from sklearn.model_selection import train_test_split\n",
        "from sklearn.preprocessing import LabelEncoder\n",
        "from tensorflow.keras.preprocessing.text import Tokenizer\n",
        "from tensorflow.keras.preprocessing.sequence import pad_sequences\n",
        "from tensorflow.keras.models import Sequential\n",
        "from tensorflow.keras.layers import Embedding, LSTM, Dense\n"
      ],
      "metadata": {
        "id": "yUzL5XAThjO9"
      },
      "execution_count": 36,
      "outputs": []
    },
    {
      "cell_type": "code",
      "source": [
        "# # Assuming you have X (text data) and y (labels) defined\n",
        "# X_train, X_test, y_train, y_test = train_test_split(X, y, test_size=0.2, random_state=42)\n",
        "\n",
        "# Tokenize the text\n",
        "tokenizer = Tokenizer()\n",
        "tokenizer.fit_on_texts(X_train)\n",
        "X_train_sequences = tokenizer.texts_to_sequences(X_train)\n",
        "X_test_sequences = tokenizer.texts_to_sequences(X_test)"
      ],
      "metadata": {
        "id": "4EMuN9OKhqam"
      },
      "execution_count": 37,
      "outputs": []
    },
    {
      "cell_type": "code",
      "source": [
        "# Pad sequences to ensure equal length\n",
        "X_train_padded = pad_sequences(X_train_sequences)\n",
        "X_test_padded = pad_sequences(X_test_sequences, maxlen=X_train_padded.shape[1])\n",
        "\n",
        "# Encode labels\n",
        "label_encoder = LabelEncoder()\n",
        "y_train_encoded = label_encoder.fit_transform(y_train)\n",
        "y_test_encoded = label_encoder.transform(y_test)"
      ],
      "metadata": {
        "id": "GtugafEEhufX"
      },
      "execution_count": 38,
      "outputs": []
    },
    {
      "cell_type": "code",
      "source": [
        "# Define the LSTM model\n",
        "embedding_dim = 50  # Adjust as needed\n",
        "vocab_size = len(tokenizer.word_index) + 1\n",
        "\n",
        "model = Sequential()\n",
        "model.add(Embedding(input_dim=vocab_size, output_dim=embedding_dim, input_length=X_train_padded.shape[1]))\n",
        "model.add(LSTM(units=1000))\n",
        "model.add(Dense(units=1, activation='sigmoid'))  # Binary classification, so using sigmoid activation\n",
        "\n",
        "model.compile(optimizer='adam', loss='binary_crossentropy', metrics=['accuracy'])\n",
        "\n",
        "# Train the model\n",
        "model.fit(X_train_padded, y_train_encoded, epochs=150, batch_size=32, validation_split=0.2)"
      ],
      "metadata": {
        "colab": {
          "base_uri": "https://localhost:8080/"
        },
        "id": "niQxW_M1hyGE",
        "outputId": "7681ee0a-ed55-411f-8684-e463bfad1e25"
      },
      "execution_count": 39,
      "outputs": [
        {
          "output_type": "stream",
          "name": "stdout",
          "text": [
            "Epoch 1/150\n",
            "1/1 [==============================] - 4s 4s/step - loss: 0.6934 - accuracy: 0.3333 - val_loss: 0.6876 - val_accuracy: 0.5000\n",
            "Epoch 2/150\n",
            "1/1 [==============================] - 0s 45ms/step - loss: 0.6843 - accuracy: 0.9167 - val_loss: 0.6757 - val_accuracy: 0.7500\n",
            "Epoch 3/150\n",
            "1/1 [==============================] - 0s 43ms/step - loss: 0.6696 - accuracy: 1.0000 - val_loss: 0.6440 - val_accuracy: 0.5000\n",
            "Epoch 4/150\n",
            "1/1 [==============================] - 0s 43ms/step - loss: 0.6395 - accuracy: 0.6667 - val_loss: 0.5952 - val_accuracy: 0.7500\n",
            "Epoch 5/150\n",
            "1/1 [==============================] - 0s 44ms/step - loss: 0.5707 - accuracy: 0.9167 - val_loss: 0.4668 - val_accuracy: 1.0000\n",
            "Epoch 6/150\n",
            "1/1 [==============================] - 0s 44ms/step - loss: 0.4485 - accuracy: 0.7500 - val_loss: 6.3733 - val_accuracy: 0.5000\n",
            "Epoch 7/150\n",
            "1/1 [==============================] - 0s 43ms/step - loss: 5.6000 - accuracy: 0.5000 - val_loss: 0.4620 - val_accuracy: 1.0000\n",
            "Epoch 8/150\n",
            "1/1 [==============================] - 0s 43ms/step - loss: 0.3548 - accuracy: 1.0000 - val_loss: 0.6529 - val_accuracy: 0.5000\n",
            "Epoch 9/150\n",
            "1/1 [==============================] - 0s 58ms/step - loss: 0.4935 - accuracy: 0.6667 - val_loss: 0.7038 - val_accuracy: 0.5000\n",
            "Epoch 10/150\n",
            "1/1 [==============================] - 0s 44ms/step - loss: 0.5818 - accuracy: 0.9167 - val_loss: 0.7210 - val_accuracy: 0.2500\n",
            "Epoch 11/150\n",
            "1/1 [==============================] - 0s 44ms/step - loss: 0.6171 - accuracy: 0.7500 - val_loss: 0.7240 - val_accuracy: 0.5000\n",
            "Epoch 12/150\n",
            "1/1 [==============================] - 0s 47ms/step - loss: 0.6229 - accuracy: 0.8333 - val_loss: 0.7235 - val_accuracy: 0.5000\n",
            "Epoch 13/150\n",
            "1/1 [==============================] - 0s 51ms/step - loss: 0.6203 - accuracy: 0.7500 - val_loss: 0.7216 - val_accuracy: 0.5000\n",
            "Epoch 14/150\n",
            "1/1 [==============================] - 0s 48ms/step - loss: 0.6155 - accuracy: 0.7500 - val_loss: 0.7196 - val_accuracy: 0.5000\n",
            "Epoch 15/150\n",
            "1/1 [==============================] - 0s 46ms/step - loss: 0.6107 - accuracy: 0.9167 - val_loss: 0.7181 - val_accuracy: 0.5000\n",
            "Epoch 16/150\n",
            "1/1 [==============================] - 0s 44ms/step - loss: 0.6063 - accuracy: 0.9167 - val_loss: 0.7172 - val_accuracy: 0.5000\n",
            "Epoch 17/150\n",
            "1/1 [==============================] - 0s 42ms/step - loss: 0.6022 - accuracy: 1.0000 - val_loss: 0.7167 - val_accuracy: 0.5000\n",
            "Epoch 18/150\n",
            "1/1 [==============================] - 0s 45ms/step - loss: 0.5980 - accuracy: 1.0000 - val_loss: 0.7165 - val_accuracy: 0.5000\n",
            "Epoch 19/150\n",
            "1/1 [==============================] - 0s 105ms/step - loss: 0.5935 - accuracy: 1.0000 - val_loss: 0.7164 - val_accuracy: 0.5000\n",
            "Epoch 20/150\n",
            "1/1 [==============================] - 0s 69ms/step - loss: 0.5886 - accuracy: 1.0000 - val_loss: 0.7164 - val_accuracy: 0.5000\n",
            "Epoch 21/150\n",
            "1/1 [==============================] - 0s 70ms/step - loss: 0.5830 - accuracy: 1.0000 - val_loss: 0.7164 - val_accuracy: 0.5000\n",
            "Epoch 22/150\n",
            "1/1 [==============================] - 0s 70ms/step - loss: 0.5768 - accuracy: 1.0000 - val_loss: 0.7165 - val_accuracy: 0.5000\n",
            "Epoch 23/150\n",
            "1/1 [==============================] - 0s 68ms/step - loss: 0.5698 - accuracy: 1.0000 - val_loss: 0.7166 - val_accuracy: 0.5000\n",
            "Epoch 24/150\n",
            "1/1 [==============================] - 0s 73ms/step - loss: 0.5619 - accuracy: 1.0000 - val_loss: 0.7166 - val_accuracy: 0.5000\n",
            "Epoch 25/150\n",
            "1/1 [==============================] - 0s 92ms/step - loss: 0.5529 - accuracy: 1.0000 - val_loss: 0.7166 - val_accuracy: 0.5000\n",
            "Epoch 26/150\n",
            "1/1 [==============================] - 0s 84ms/step - loss: 0.5427 - accuracy: 1.0000 - val_loss: 0.7165 - val_accuracy: 0.5000\n",
            "Epoch 27/150\n",
            "1/1 [==============================] - 0s 85ms/step - loss: 0.5309 - accuracy: 1.0000 - val_loss: 0.7163 - val_accuracy: 0.5000\n",
            "Epoch 28/150\n",
            "1/1 [==============================] - 0s 97ms/step - loss: 0.5173 - accuracy: 1.0000 - val_loss: 0.7162 - val_accuracy: 0.5000\n",
            "Epoch 29/150\n",
            "1/1 [==============================] - 0s 91ms/step - loss: 0.5012 - accuracy: 1.0000 - val_loss: 0.7160 - val_accuracy: 0.5000\n",
            "Epoch 30/150\n",
            "1/1 [==============================] - 0s 88ms/step - loss: 0.4821 - accuracy: 1.0000 - val_loss: 0.7160 - val_accuracy: 0.5000\n",
            "Epoch 31/150\n",
            "1/1 [==============================] - 0s 74ms/step - loss: 0.4589 - accuracy: 1.0000 - val_loss: 0.7169 - val_accuracy: 0.5000\n",
            "Epoch 32/150\n",
            "1/1 [==============================] - 0s 80ms/step - loss: 0.4306 - accuracy: 1.0000 - val_loss: 0.7203 - val_accuracy: 0.5000\n",
            "Epoch 33/150\n",
            "1/1 [==============================] - 0s 90ms/step - loss: 0.3960 - accuracy: 1.0000 - val_loss: 0.7305 - val_accuracy: 0.5000\n",
            "Epoch 34/150\n",
            "1/1 [==============================] - 0s 70ms/step - loss: 0.3560 - accuracy: 1.0000 - val_loss: 0.7433 - val_accuracy: 0.5000\n",
            "Epoch 35/150\n",
            "1/1 [==============================] - 0s 92ms/step - loss: 0.3127 - accuracy: 1.0000 - val_loss: 0.7010 - val_accuracy: 0.5000\n",
            "Epoch 36/150\n",
            "1/1 [==============================] - 0s 91ms/step - loss: 0.2523 - accuracy: 1.0000 - val_loss: 0.6655 - val_accuracy: 0.5000\n",
            "Epoch 37/150\n",
            "1/1 [==============================] - 0s 125ms/step - loss: 0.2056 - accuracy: 1.0000 - val_loss: 0.6388 - val_accuracy: 0.5000\n",
            "Epoch 38/150\n",
            "1/1 [==============================] - 0s 123ms/step - loss: 0.1409 - accuracy: 1.0000 - val_loss: 0.8921 - val_accuracy: 0.5000\n",
            "Epoch 39/150\n",
            "1/1 [==============================] - 0s 106ms/step - loss: 0.1788 - accuracy: 0.9167 - val_loss: 1.2137 - val_accuracy: 0.5000\n",
            "Epoch 40/150\n",
            "1/1 [==============================] - 0s 106ms/step - loss: 0.7063 - accuracy: 0.5000 - val_loss: 1.0158 - val_accuracy: 0.5000\n",
            "Epoch 41/150\n",
            "1/1 [==============================] - 0s 123ms/step - loss: 0.5278 - accuracy: 0.5000 - val_loss: 0.7473 - val_accuracy: 0.5000\n",
            "Epoch 42/150\n",
            "1/1 [==============================] - 0s 70ms/step - loss: 0.2767 - accuracy: 0.9167 - val_loss: 0.6201 - val_accuracy: 0.5000\n",
            "Epoch 43/150\n",
            "1/1 [==============================] - 0s 89ms/step - loss: 0.1959 - accuracy: 1.0000 - val_loss: 0.6115 - val_accuracy: 0.7500\n",
            "Epoch 44/150\n",
            "1/1 [==============================] - 0s 76ms/step - loss: 0.1888 - accuracy: 1.0000 - val_loss: 0.6349 - val_accuracy: 0.7500\n",
            "Epoch 45/150\n",
            "1/1 [==============================] - 0s 137ms/step - loss: 0.1903 - accuracy: 1.0000 - val_loss: 0.6606 - val_accuracy: 0.7500\n",
            "Epoch 46/150\n",
            "1/1 [==============================] - 0s 124ms/step - loss: 0.1902 - accuracy: 1.0000 - val_loss: 0.6851 - val_accuracy: 0.5000\n",
            "Epoch 47/150\n",
            "1/1 [==============================] - 0s 90ms/step - loss: 0.1893 - accuracy: 1.0000 - val_loss: 0.7057 - val_accuracy: 0.5000\n",
            "Epoch 48/150\n",
            "1/1 [==============================] - 0s 72ms/step - loss: 0.1861 - accuracy: 1.0000 - val_loss: 0.7196 - val_accuracy: 0.5000\n",
            "Epoch 49/150\n",
            "1/1 [==============================] - 0s 61ms/step - loss: 0.1784 - accuracy: 1.0000 - val_loss: 0.7258 - val_accuracy: 0.2500\n",
            "Epoch 50/150\n",
            "1/1 [==============================] - 0s 91ms/step - loss: 0.1653 - accuracy: 1.0000 - val_loss: 0.7250 - val_accuracy: 0.5000\n",
            "Epoch 51/150\n",
            "1/1 [==============================] - 0s 222ms/step - loss: 0.1476 - accuracy: 1.0000 - val_loss: 0.7187 - val_accuracy: 0.5000\n",
            "Epoch 52/150\n",
            "1/1 [==============================] - 0s 150ms/step - loss: 0.1274 - accuracy: 1.0000 - val_loss: 0.7096 - val_accuracy: 0.5000\n",
            "Epoch 53/150\n",
            "1/1 [==============================] - 0s 115ms/step - loss: 0.1067 - accuracy: 1.0000 - val_loss: 0.7013 - val_accuracy: 0.5000\n",
            "Epoch 54/150\n",
            "1/1 [==============================] - 0s 190ms/step - loss: 0.0876 - accuracy: 1.0000 - val_loss: 0.6980 - val_accuracy: 0.5000\n",
            "Epoch 55/150\n",
            "1/1 [==============================] - 0s 171ms/step - loss: 0.0714 - accuracy: 1.0000 - val_loss: 0.7034 - val_accuracy: 0.5000\n",
            "Epoch 56/150\n",
            "1/1 [==============================] - 0s 163ms/step - loss: 0.0585 - accuracy: 1.0000 - val_loss: 0.7188 - val_accuracy: 0.5000\n",
            "Epoch 57/150\n",
            "1/1 [==============================] - 0s 150ms/step - loss: 0.0487 - accuracy: 1.0000 - val_loss: 0.7410 - val_accuracy: 0.5000\n",
            "Epoch 58/150\n",
            "1/1 [==============================] - 0s 104ms/step - loss: 0.0414 - accuracy: 1.0000 - val_loss: 0.7608 - val_accuracy: 0.5000\n",
            "Epoch 59/150\n",
            "1/1 [==============================] - 0s 187ms/step - loss: 0.0353 - accuracy: 1.0000 - val_loss: 0.7662 - val_accuracy: 0.5000\n",
            "Epoch 60/150\n",
            "1/1 [==============================] - 0s 167ms/step - loss: 0.0293 - accuracy: 1.0000 - val_loss: 0.7472 - val_accuracy: 0.5000\n",
            "Epoch 61/150\n",
            "1/1 [==============================] - 0s 181ms/step - loss: 0.0232 - accuracy: 1.0000 - val_loss: 0.7023 - val_accuracy: 0.5000\n",
            "Epoch 62/150\n",
            "1/1 [==============================] - 0s 184ms/step - loss: 0.0176 - accuracy: 1.0000 - val_loss: 0.6391 - val_accuracy: 0.5000\n",
            "Epoch 63/150\n",
            "1/1 [==============================] - 0s 150ms/step - loss: 0.0133 - accuracy: 1.0000 - val_loss: 0.5695 - val_accuracy: 0.7500\n",
            "Epoch 64/150\n",
            "1/1 [==============================] - 0s 133ms/step - loss: 0.0104 - accuracy: 1.0000 - val_loss: 0.5036 - val_accuracy: 0.7500\n",
            "Epoch 65/150\n",
            "1/1 [==============================] - 0s 122ms/step - loss: 0.0086 - accuracy: 1.0000 - val_loss: 0.4475 - val_accuracy: 0.7500\n",
            "Epoch 66/150\n",
            "1/1 [==============================] - 0s 150ms/step - loss: 0.0073 - accuracy: 1.0000 - val_loss: 0.4024 - val_accuracy: 0.7500\n",
            "Epoch 67/150\n",
            "1/1 [==============================] - 0s 207ms/step - loss: 0.0064 - accuracy: 1.0000 - val_loss: 0.3675 - val_accuracy: 0.7500\n",
            "Epoch 68/150\n",
            "1/1 [==============================] - 0s 212ms/step - loss: 0.0056 - accuracy: 1.0000 - val_loss: 0.3405 - val_accuracy: 1.0000\n",
            "Epoch 69/150\n",
            "1/1 [==============================] - 0s 149ms/step - loss: 0.0049 - accuracy: 1.0000 - val_loss: 0.3192 - val_accuracy: 1.0000\n",
            "Epoch 70/150\n",
            "1/1 [==============================] - 0s 162ms/step - loss: 0.0042 - accuracy: 1.0000 - val_loss: 0.3021 - val_accuracy: 1.0000\n",
            "Epoch 71/150\n",
            "1/1 [==============================] - 0s 179ms/step - loss: 0.0036 - accuracy: 1.0000 - val_loss: 0.2882 - val_accuracy: 1.0000\n",
            "Epoch 72/150\n",
            "1/1 [==============================] - 0s 159ms/step - loss: 0.0030 - accuracy: 1.0000 - val_loss: 0.2776 - val_accuracy: 1.0000\n",
            "Epoch 73/150\n",
            "1/1 [==============================] - 0s 174ms/step - loss: 0.0025 - accuracy: 1.0000 - val_loss: 0.2708 - val_accuracy: 1.0000\n",
            "Epoch 74/150\n",
            "1/1 [==============================] - 0s 169ms/step - loss: 0.0021 - accuracy: 1.0000 - val_loss: 0.2692 - val_accuracy: 1.0000\n",
            "Epoch 75/150\n",
            "1/1 [==============================] - 0s 156ms/step - loss: 0.0017 - accuracy: 1.0000 - val_loss: 0.2742 - val_accuracy: 0.7500\n",
            "Epoch 76/150\n",
            "1/1 [==============================] - 0s 155ms/step - loss: 0.0014 - accuracy: 1.0000 - val_loss: 0.2873 - val_accuracy: 0.7500\n",
            "Epoch 77/150\n",
            "1/1 [==============================] - 0s 246ms/step - loss: 0.0011 - accuracy: 1.0000 - val_loss: 0.3096 - val_accuracy: 0.7500\n",
            "Epoch 78/150\n",
            "1/1 [==============================] - 0s 107ms/step - loss: 8.5473e-04 - accuracy: 1.0000 - val_loss: 0.3419 - val_accuracy: 0.7500\n",
            "Epoch 79/150\n",
            "1/1 [==============================] - 0s 154ms/step - loss: 6.8060e-04 - accuracy: 1.0000 - val_loss: 0.3840 - val_accuracy: 0.7500\n",
            "Epoch 80/150\n",
            "1/1 [==============================] - 0s 145ms/step - loss: 5.4719e-04 - accuracy: 1.0000 - val_loss: 0.4351 - val_accuracy: 0.7500\n",
            "Epoch 81/150\n",
            "1/1 [==============================] - 0s 157ms/step - loss: 4.4795e-04 - accuracy: 1.0000 - val_loss: 0.4938 - val_accuracy: 0.7500\n",
            "Epoch 82/150\n",
            "1/1 [==============================] - 0s 247ms/step - loss: 3.7696e-04 - accuracy: 1.0000 - val_loss: 0.5581 - val_accuracy: 0.7500\n",
            "Epoch 83/150\n",
            "1/1 [==============================] - 0s 157ms/step - loss: 3.2908e-04 - accuracy: 1.0000 - val_loss: 0.6255 - val_accuracy: 0.7500\n",
            "Epoch 84/150\n",
            "1/1 [==============================] - 0s 124ms/step - loss: 2.9993e-04 - accuracy: 1.0000 - val_loss: 0.6928 - val_accuracy: 0.7500\n",
            "Epoch 85/150\n",
            "1/1 [==============================] - 0s 155ms/step - loss: 2.8548e-04 - accuracy: 1.0000 - val_loss: 0.7566 - val_accuracy: 0.7500\n",
            "Epoch 86/150\n",
            "1/1 [==============================] - 0s 143ms/step - loss: 2.8148e-04 - accuracy: 1.0000 - val_loss: 0.8130 - val_accuracy: 0.7500\n",
            "Epoch 87/150\n",
            "1/1 [==============================] - 0s 147ms/step - loss: 2.8300e-04 - accuracy: 1.0000 - val_loss: 0.8582 - val_accuracy: 0.7500\n",
            "Epoch 88/150\n",
            "1/1 [==============================] - 0s 142ms/step - loss: 2.8454e-04 - accuracy: 1.0000 - val_loss: 0.8890 - val_accuracy: 0.7500\n",
            "Epoch 89/150\n",
            "1/1 [==============================] - 0s 149ms/step - loss: 2.8110e-04 - accuracy: 1.0000 - val_loss: 0.9038 - val_accuracy: 0.7500\n",
            "Epoch 90/150\n",
            "1/1 [==============================] - 0s 135ms/step - loss: 2.6973e-04 - accuracy: 1.0000 - val_loss: 0.9028 - val_accuracy: 0.7500\n",
            "Epoch 91/150\n",
            "1/1 [==============================] - 0s 156ms/step - loss: 2.5068e-04 - accuracy: 1.0000 - val_loss: 0.8879 - val_accuracy: 0.7500\n",
            "Epoch 92/150\n",
            "1/1 [==============================] - 0s 169ms/step - loss: 2.2677e-04 - accuracy: 1.0000 - val_loss: 0.8624 - val_accuracy: 0.7500\n",
            "Epoch 93/150\n",
            "1/1 [==============================] - 0s 172ms/step - loss: 2.0167e-04 - accuracy: 1.0000 - val_loss: 0.8297 - val_accuracy: 0.7500\n",
            "Epoch 94/150\n",
            "1/1 [==============================] - 0s 85ms/step - loss: 1.7833e-04 - accuracy: 1.0000 - val_loss: 0.7930 - val_accuracy: 0.7500\n",
            "Epoch 95/150\n",
            "1/1 [==============================] - 0s 203ms/step - loss: 1.5835e-04 - accuracy: 1.0000 - val_loss: 0.7548 - val_accuracy: 0.7500\n",
            "Epoch 96/150\n",
            "1/1 [==============================] - 0s 116ms/step - loss: 1.4218e-04 - accuracy: 1.0000 - val_loss: 0.7168 - val_accuracy: 0.7500\n",
            "Epoch 97/150\n",
            "1/1 [==============================] - 0s 146ms/step - loss: 1.2955e-04 - accuracy: 1.0000 - val_loss: 0.6803 - val_accuracy: 0.7500\n",
            "Epoch 98/150\n",
            "1/1 [==============================] - 0s 115ms/step - loss: 1.1991e-04 - accuracy: 1.0000 - val_loss: 0.6461 - val_accuracy: 0.7500\n",
            "Epoch 99/150\n",
            "1/1 [==============================] - 0s 157ms/step - loss: 1.1264e-04 - accuracy: 1.0000 - val_loss: 0.6146 - val_accuracy: 0.7500\n",
            "Epoch 100/150\n",
            "1/1 [==============================] - 0s 157ms/step - loss: 1.0717e-04 - accuracy: 1.0000 - val_loss: 0.5860 - val_accuracy: 0.7500\n",
            "Epoch 101/150\n",
            "1/1 [==============================] - 0s 134ms/step - loss: 1.0306e-04 - accuracy: 1.0000 - val_loss: 0.5604 - val_accuracy: 0.7500\n",
            "Epoch 102/150\n",
            "1/1 [==============================] - 0s 79ms/step - loss: 9.9920e-05 - accuracy: 1.0000 - val_loss: 0.5377 - val_accuracy: 0.7500\n",
            "Epoch 103/150\n",
            "1/1 [==============================] - 0s 162ms/step - loss: 9.7479e-05 - accuracy: 1.0000 - val_loss: 0.5179 - val_accuracy: 0.7500\n",
            "Epoch 104/150\n",
            "1/1 [==============================] - 0s 186ms/step - loss: 9.5522e-05 - accuracy: 1.0000 - val_loss: 0.5008 - val_accuracy: 0.7500\n",
            "Epoch 105/150\n",
            "1/1 [==============================] - 0s 162ms/step - loss: 9.3889e-05 - accuracy: 1.0000 - val_loss: 0.4862 - val_accuracy: 0.7500\n",
            "Epoch 106/150\n",
            "1/1 [==============================] - 0s 167ms/step - loss: 9.2462e-05 - accuracy: 1.0000 - val_loss: 0.4741 - val_accuracy: 0.7500\n",
            "Epoch 107/150\n",
            "1/1 [==============================] - 0s 148ms/step - loss: 9.1157e-05 - accuracy: 1.0000 - val_loss: 0.4641 - val_accuracy: 0.7500\n",
            "Epoch 108/150\n",
            "1/1 [==============================] - 0s 116ms/step - loss: 8.9912e-05 - accuracy: 1.0000 - val_loss: 0.4562 - val_accuracy: 0.7500\n",
            "Epoch 109/150\n",
            "1/1 [==============================] - 0s 135ms/step - loss: 8.8687e-05 - accuracy: 1.0000 - val_loss: 0.4501 - val_accuracy: 0.7500\n",
            "Epoch 110/150\n",
            "1/1 [==============================] - 0s 156ms/step - loss: 8.7455e-05 - accuracy: 1.0000 - val_loss: 0.4457 - val_accuracy: 0.7500\n",
            "Epoch 111/150\n",
            "1/1 [==============================] - 0s 95ms/step - loss: 8.6200e-05 - accuracy: 1.0000 - val_loss: 0.4429 - val_accuracy: 0.7500\n",
            "Epoch 112/150\n",
            "1/1 [==============================] - 0s 156ms/step - loss: 8.4918e-05 - accuracy: 1.0000 - val_loss: 0.4415 - val_accuracy: 0.7500\n",
            "Epoch 113/150\n",
            "1/1 [==============================] - 0s 185ms/step - loss: 8.3605e-05 - accuracy: 1.0000 - val_loss: 0.4414 - val_accuracy: 0.7500\n",
            "Epoch 114/150\n",
            "1/1 [==============================] - 0s 245ms/step - loss: 8.2268e-05 - accuracy: 1.0000 - val_loss: 0.4425 - val_accuracy: 0.7500\n",
            "Epoch 115/150\n",
            "1/1 [==============================] - 0s 124ms/step - loss: 8.0913e-05 - accuracy: 1.0000 - val_loss: 0.4446 - val_accuracy: 0.7500\n",
            "Epoch 116/150\n",
            "1/1 [==============================] - 0s 155ms/step - loss: 7.9548e-05 - accuracy: 1.0000 - val_loss: 0.4476 - val_accuracy: 0.7500\n",
            "Epoch 117/150\n",
            "1/1 [==============================] - 0s 130ms/step - loss: 7.8183e-05 - accuracy: 1.0000 - val_loss: 0.4515 - val_accuracy: 0.7500\n",
            "Epoch 118/150\n",
            "1/1 [==============================] - 0s 129ms/step - loss: 7.6829e-05 - accuracy: 1.0000 - val_loss: 0.4562 - val_accuracy: 0.7500\n",
            "Epoch 119/150\n",
            "1/1 [==============================] - 0s 90ms/step - loss: 7.5494e-05 - accuracy: 1.0000 - val_loss: 0.4614 - val_accuracy: 0.7500\n",
            "Epoch 120/150\n",
            "1/1 [==============================] - 0s 153ms/step - loss: 7.4187e-05 - accuracy: 1.0000 - val_loss: 0.4673 - val_accuracy: 0.7500\n",
            "Epoch 121/150\n",
            "1/1 [==============================] - 0s 187ms/step - loss: 7.2917e-05 - accuracy: 1.0000 - val_loss: 0.4736 - val_accuracy: 0.7500\n",
            "Epoch 122/150\n",
            "1/1 [==============================] - 0s 172ms/step - loss: 7.1690e-05 - accuracy: 1.0000 - val_loss: 0.4802 - val_accuracy: 0.7500\n",
            "Epoch 123/150\n",
            "1/1 [==============================] - 0s 116ms/step - loss: 7.0511e-05 - accuracy: 1.0000 - val_loss: 0.4872 - val_accuracy: 0.7500\n",
            "Epoch 124/150\n",
            "1/1 [==============================] - 0s 94ms/step - loss: 6.9384e-05 - accuracy: 1.0000 - val_loss: 0.4944 - val_accuracy: 0.7500\n",
            "Epoch 125/150\n",
            "1/1 [==============================] - 0s 182ms/step - loss: 6.8312e-05 - accuracy: 1.0000 - val_loss: 0.5017 - val_accuracy: 0.7500\n",
            "Epoch 126/150\n",
            "1/1 [==============================] - 0s 225ms/step - loss: 6.7297e-05 - accuracy: 1.0000 - val_loss: 0.5091 - val_accuracy: 0.7500\n",
            "Epoch 127/150\n",
            "1/1 [==============================] - 0s 146ms/step - loss: 6.6338e-05 - accuracy: 1.0000 - val_loss: 0.5164 - val_accuracy: 0.7500\n",
            "Epoch 128/150\n",
            "1/1 [==============================] - 0s 155ms/step - loss: 6.5436e-05 - accuracy: 1.0000 - val_loss: 0.5238 - val_accuracy: 0.7500\n",
            "Epoch 129/150\n",
            "1/1 [==============================] - 0s 97ms/step - loss: 6.4589e-05 - accuracy: 1.0000 - val_loss: 0.5310 - val_accuracy: 0.7500\n",
            "Epoch 130/150\n",
            "1/1 [==============================] - 0s 140ms/step - loss: 6.3794e-05 - accuracy: 1.0000 - val_loss: 0.5380 - val_accuracy: 0.7500\n",
            "Epoch 131/150\n",
            "1/1 [==============================] - 0s 169ms/step - loss: 6.3049e-05 - accuracy: 1.0000 - val_loss: 0.5448 - val_accuracy: 0.7500\n",
            "Epoch 132/150\n",
            "1/1 [==============================] - 0s 215ms/step - loss: 6.2350e-05 - accuracy: 1.0000 - val_loss: 0.5513 - val_accuracy: 0.7500\n",
            "Epoch 133/150\n",
            "1/1 [==============================] - 0s 198ms/step - loss: 6.1693e-05 - accuracy: 1.0000 - val_loss: 0.5575 - val_accuracy: 0.7500\n",
            "Epoch 134/150\n",
            "1/1 [==============================] - 0s 126ms/step - loss: 6.1075e-05 - accuracy: 1.0000 - val_loss: 0.5633 - val_accuracy: 0.7500\n",
            "Epoch 135/150\n",
            "1/1 [==============================] - 0s 141ms/step - loss: 6.0490e-05 - accuracy: 1.0000 - val_loss: 0.5688 - val_accuracy: 0.7500\n",
            "Epoch 136/150\n",
            "1/1 [==============================] - 0s 168ms/step - loss: 5.9936e-05 - accuracy: 1.0000 - val_loss: 0.5739 - val_accuracy: 0.7500\n",
            "Epoch 137/150\n",
            "1/1 [==============================] - 0s 215ms/step - loss: 5.9408e-05 - accuracy: 1.0000 - val_loss: 0.5785 - val_accuracy: 0.7500\n",
            "Epoch 138/150\n",
            "1/1 [==============================] - 0s 166ms/step - loss: 5.8902e-05 - accuracy: 1.0000 - val_loss: 0.5828 - val_accuracy: 0.7500\n",
            "Epoch 139/150\n",
            "1/1 [==============================] - 0s 168ms/step - loss: 5.8415e-05 - accuracy: 1.0000 - val_loss: 0.5866 - val_accuracy: 0.7500\n",
            "Epoch 140/150\n",
            "1/1 [==============================] - 0s 162ms/step - loss: 5.7944e-05 - accuracy: 1.0000 - val_loss: 0.5899 - val_accuracy: 0.7500\n",
            "Epoch 141/150\n",
            "1/1 [==============================] - 0s 152ms/step - loss: 5.7485e-05 - accuracy: 1.0000 - val_loss: 0.5929 - val_accuracy: 0.7500\n",
            "Epoch 142/150\n",
            "1/1 [==============================] - 0s 121ms/step - loss: 5.7036e-05 - accuracy: 1.0000 - val_loss: 0.5954 - val_accuracy: 0.7500\n",
            "Epoch 143/150\n",
            "1/1 [==============================] - 0s 138ms/step - loss: 5.6596e-05 - accuracy: 1.0000 - val_loss: 0.5975 - val_accuracy: 0.7500\n",
            "Epoch 144/150\n",
            "1/1 [==============================] - 0s 181ms/step - loss: 5.6163e-05 - accuracy: 1.0000 - val_loss: 0.5992 - val_accuracy: 0.7500\n",
            "Epoch 145/150\n",
            "1/1 [==============================] - 0s 134ms/step - loss: 5.5734e-05 - accuracy: 1.0000 - val_loss: 0.6005 - val_accuracy: 0.7500\n",
            "Epoch 146/150\n",
            "1/1 [==============================] - 0s 209ms/step - loss: 5.5310e-05 - accuracy: 1.0000 - val_loss: 0.6014 - val_accuracy: 0.7500\n",
            "Epoch 147/150\n",
            "1/1 [==============================] - 0s 151ms/step - loss: 5.4890e-05 - accuracy: 1.0000 - val_loss: 0.6021 - val_accuracy: 0.7500\n",
            "Epoch 148/150\n",
            "1/1 [==============================] - 0s 179ms/step - loss: 5.4472e-05 - accuracy: 1.0000 - val_loss: 0.6024 - val_accuracy: 0.7500\n",
            "Epoch 149/150\n",
            "1/1 [==============================] - 0s 211ms/step - loss: 5.4058e-05 - accuracy: 1.0000 - val_loss: 0.6024 - val_accuracy: 0.7500\n",
            "Epoch 150/150\n",
            "1/1 [==============================] - 0s 236ms/step - loss: 5.3647e-05 - accuracy: 1.0000 - val_loss: 0.6022 - val_accuracy: 0.7500\n"
          ]
        },
        {
          "output_type": "execute_result",
          "data": {
            "text/plain": [
              "<keras.src.callbacks.History at 0x7ed89d0d76a0>"
            ]
          },
          "metadata": {},
          "execution_count": 39
        }
      ]
    },
    {
      "cell_type": "code",
      "source": [
        "# Evaluate the model\n",
        "loss, accuracy = model.evaluate(X_test_padded, y_test_encoded)\n",
        "print(f\"Test Accuracy: {accuracy}\")\n",
        "\n",
        "# Make predictions\n",
        "y_pred_prob = model.predict(X_test_padded)\n",
        "y_pred = (y_pred_prob > 0.5).astype(int)"
      ],
      "metadata": {
        "colab": {
          "base_uri": "https://localhost:8080/"
        },
        "id": "5ZAV54vPhV7I",
        "outputId": "3e10a081-e129-4ab4-d727-61600344876b"
      },
      "execution_count": 40,
      "outputs": [
        {
          "output_type": "stream",
          "name": "stdout",
          "text": [
            "1/1 [==============================] - 0s 113ms/step - loss: 3.7352 - accuracy: 0.4000\n",
            "Test Accuracy: 0.4000000059604645\n",
            "1/1 [==============================] - 2s 2s/step\n"
          ]
        }
      ]
    },
    {
      "cell_type": "code",
      "source": [
        "# Additional evaluation metrics\n",
        "from sklearn.metrics import accuracy_score, precision_score, recall_score, f1_score, confusion_matrix\n",
        "\n",
        "print(\"Accuracy:\", accuracy_score(y_test_encoded, y_pred))\n",
        "print(\"Precision:\", precision_score(y_test_encoded, y_pred))\n",
        "print(\"Recall:\", recall_score(y_test_encoded, y_pred))\n",
        "print(\"F1 Score:\", f1_score(y_test_encoded, y_pred))\n",
        "print(\"Confusion Matrix:\\n\", confusion_matrix(y_test_encoded, y_pred))\n"
      ],
      "metadata": {
        "colab": {
          "base_uri": "https://localhost:8080/"
        },
        "id": "zSWGtVyzh45O",
        "outputId": "796314a5-7fc3-4fc2-890d-51c3e7b19a81"
      },
      "execution_count": 41,
      "outputs": [
        {
          "output_type": "stream",
          "name": "stdout",
          "text": [
            "Accuracy: 0.4\n",
            "Precision: 0.4\n",
            "Recall: 1.0\n",
            "F1 Score: 0.5714285714285715\n",
            "Confusion Matrix:\n",
            " [[0 3]\n",
            " [0 2]]\n"
          ]
        }
      ]
    },
    {
      "cell_type": "code",
      "source": [
        "def preprocess_new_address(new_address):\n",
        "    # Tokenize and pad the new address\n",
        "    new_address_sequence = tokenizer.texts_to_sequences([new_address])\n",
        "    new_address_padded = pad_sequences(new_address_sequence, maxlen=X_train_padded.shape[1])\n",
        "    return new_address_padded\n",
        "\n",
        "def predict_address_classification(new_address):\n",
        "    # Preprocess the new address\n",
        "    new_address_padded = preprocess_new_address(new_address)\n",
        "\n",
        "    # Make the prediction\n",
        "    prediction_prob = model.predict(new_address_padded)\n",
        "    prediction = (prediction_prob > 0.5).astype(int)\n",
        "\n",
        "    # Decode the prediction\n",
        "    predicted_class = label_encoder.inverse_transform(prediction)[0]\n",
        "\n",
        "    return predicted_class"
      ],
      "metadata": {
        "id": "BD5jbDy-h7V7"
      },
      "execution_count": 42,
      "outputs": []
    },
    {
      "cell_type": "markdown",
      "source": [
        "# **Validation**"
      ],
      "metadata": {
        "id": "r9M1x1gKkgsp"
      }
    },
    {
      "cell_type": "code",
      "source": [
        "# Example: Predicting the classification for a new address\n",
        "new_address = \"Village kandi p.o.khaniyara.teh Dharamshala  Khanyara road  , Kangra District, Himachal Pradesh, 176218\"\n",
        "predicted_class = predict_address_classification(new_address)\n",
        "\n",
        "print(f\"The predicted classification for the address is: {predicted_class}\")"
      ],
      "metadata": {
        "colab": {
          "base_uri": "https://localhost:8080/"
        },
        "id": "9w5vBH8Ljr3a",
        "outputId": "6ce998fc-7ad7-4d10-d83d-c683ec3ca39e"
      },
      "execution_count": 43,
      "outputs": [
        {
          "output_type": "stream",
          "name": "stdout",
          "text": [
            "1/1 [==============================] - 0s 203ms/step\n",
            "The predicted classification for the address is: residential\n"
          ]
        },
        {
          "output_type": "stream",
          "name": "stderr",
          "text": [
            "/usr/local/lib/python3.10/dist-packages/sklearn/preprocessing/_label.py:155: DataConversionWarning: A column-vector y was passed when a 1d array was expected. Please change the shape of y to (n_samples, ), for example using ravel().\n",
            "  y = column_or_1d(y, warn=True)\n"
          ]
        }
      ]
    },
    {
      "cell_type": "code",
      "source": [
        "# Example: Predicting the classification for a new address\n",
        "new_address = \"GOPALPUR WAREHOUSING CMPLX BASAI GOPALPUR , KHASRA NO.** QILA NO.** , GURGAON  , Gurgaon, Haryana, 122001\"\n",
        "predicted_class = predict_address_classification(new_address)\n",
        "\n",
        "print(f\"The predicted classification for the address is: {predicted_class}\")"
      ],
      "metadata": {
        "colab": {
          "base_uri": "https://localhost:8080/"
        },
        "id": "WWGxtvNpjvlV",
        "outputId": "c162303d-0bcf-4826-ae1e-ee7abc4d0f9f"
      },
      "execution_count": 46,
      "outputs": [
        {
          "output_type": "stream",
          "name": "stdout",
          "text": [
            "1/1 [==============================] - 0s 32ms/step\n",
            "The predicted classification for the address is: commercial\n"
          ]
        },
        {
          "output_type": "stream",
          "name": "stderr",
          "text": [
            "/usr/local/lib/python3.10/dist-packages/sklearn/preprocessing/_label.py:155: DataConversionWarning: A column-vector y was passed when a 1d array was expected. Please change the shape of y to (n_samples, ), for example using ravel().\n",
            "  y = column_or_1d(y, warn=True)\n"
          ]
        }
      ]
    },
    {
      "cell_type": "code",
      "source": [],
      "metadata": {
        "id": "gLwsUj5KkSgO"
      },
      "execution_count": 45,
      "outputs": []
    }
  ]
}